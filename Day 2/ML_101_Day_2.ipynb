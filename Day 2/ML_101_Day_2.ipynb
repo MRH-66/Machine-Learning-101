{
  "nbformat": 4,
  "nbformat_minor": 0,
  "metadata": {
    "colab": {
      "provenance": []
    },
    "kernelspec": {
      "name": "python3",
      "display_name": "Python 3"
    },
    "language_info": {
      "name": "python"
    }
  },
  "cells": [
    {
      "cell_type": "markdown",
      "source": [
        "#**Objective**\n",
        "In this notebook, we will implement a simple Linear Regression model from scratch using Gradient Descent. We will define the key components of the model, including:\n",
        "\n",
        "* Loss Function (Mean Squared Error - MSE)\n",
        "* Optimizer (Gradient Descent)\n",
        "* Linear Regression Model\n",
        "* Evaluation Metrics (R², MAE, MSE)\n",
        "* Visualization of Loss and Accuracy Curves during training\n",
        "\n",
        "We will then train the model on a simple dataset, evaluate its performance, and visualize how the model improves over time."
      ],
      "metadata": {
        "id": "B5MfblOBdqqa"
      }
    },
    {
      "cell_type": "markdown",
      "source": [
        "# **Steps**\n",
        "**1**. **Define Loss Function (Mean Squared Error - MSE):**\n",
        "\n",
        "* Write the function to calculate the MSE between the actual values and predicted values.\n",
        "\n",
        "**2**. **Define Gradient Descent Optimizer:**\n",
        "\n",
        "* Implement the gradient descent algorithm to minimize the MSE by updating the parameters (m and c) of the linear regression model.\n",
        "\n",
        "**3**. **Implement Linear Regression Model:**\n",
        "\n",
        "* Write the function to initialize the parameters and call the gradient descent function for training.\n",
        "\n",
        "**4**. **Define Evaluation Metrics:**\n",
        "\n",
        "* Implement the functions to calculate R² (R-squared), MAE (Mean Absolute Error), and MSE (Mean Squared Error).\n",
        "\n",
        "**5**. **Define Visualization Functions:**\n",
        "\n",
        "* Create functions to plot Loss Curve (MSE) and Accuracy Curve (R²).\n",
        "\n",
        "\n"
      ],
      "metadata": {
        "id": "HbwuZwXdeYeh"
      }
    },
    {
      "cell_type": "markdown",
      "source": [
        "#**Import Necessary Libraries**"
      ],
      "metadata": {
        "id": "kV0tveqogJHP"
      }
    },
    {
      "cell_type": "code",
      "execution_count": null,
      "metadata": {
        "id": "f39C3LMJQv_Q"
      },
      "outputs": [],
      "source": [
        "import numpy as np\n",
        "import matplotlib.pyplot as plt\n",
        "import pandas as pd\n",
        "from sklearn import datasets\n",
        "from sklearn.datasets import fetch_california_housing\n",
        "from sklearn.model_selection import train_test_split\n",
        "from sklearn.preprocessing import StandardScaler"
      ]
    },
    {
      "cell_type": "markdown",
      "source": [
        "#**Load and Prepare the Iris Dataset**"
      ],
      "metadata": {
        "id": "hnYK9rATgSGO"
      }
    },
    {
      "cell_type": "code",
      "source": [
        "# Load the California Housing dataset\n",
        "data = fetch_california_housing()\n",
        "X = data.data\n",
        "y = data.target\n",
        "\n",
        "# Split the dataset into training and test sets (80% train, 20% test)\n",
        "X_train, X_test, y_train, y_test = train_test_split(X, y, test_size=0.2, random_state=42)\n",
        "\n",
        "# Normalize the input features (standardize them)\n",
        "scaler = StandardScaler()\n",
        "X_train = scaler.fit_transform(X_train)\n",
        "X_test = scaler.transform(X_test)"
      ],
      "metadata": {
        "id": "QHjj_yrNgOz8"
      },
      "execution_count": null,
      "outputs": []
    },
    {
      "cell_type": "markdown",
      "source": [
        "#**Define the Loss Function (MSE)**"
      ],
      "metadata": {
        "id": "r15DXWSfgee7"
      }
    },
    {
      "cell_type": "code",
      "source": [
        "def mean_squared_error(y_true, y_pred):\n",
        "    return np.mean((y_true - y_pred) ** 2)"
      ],
      "metadata": {
        "id": "mQadh1iRgaj1"
      },
      "execution_count": null,
      "outputs": []
    },
    {
      "cell_type": "markdown",
      "source": [
        "#**Define the Gradient Descent Optimizer**"
      ],
      "metadata": {
        "id": "Sr34Yk4zgk3w"
      }
    },
    {
      "cell_type": "code",
      "source": [
        "def gradient_descent(X, y, m, c, learning_rate=0.001, epochs=100):\n",
        "    loss_history = []\n",
        "\n",
        "    # Gradient descent loop\n",
        "    for epoch in range(epochs):\n",
        "        # Make predictions\n",
        "        y_pred = np.dot(X, m) + c\n",
        "\n",
        "        # Calculate the loss (MSE)\n",
        "        loss = mean_squared_error(y, y_pred)\n",
        "        loss_history.append(loss)\n",
        "\n",
        "        # Compute gradients for m and c\n",
        "        dm = -(2 / X.shape[0]) * np.dot(X.T, (y - y_pred))\n",
        "        dc = -(2 / X.shape[0]) * np.sum(y - y_pred)\n",
        "\n",
        "        # Update the parameters\n",
        "        m -= learning_rate * dm\n",
        "        c -= learning_rate * dc\n",
        "\n",
        "        if epoch % 10 == 0:  # Print every 10 epochs\n",
        "            print(f\"Epoch {epoch}/{epochs} - Loss: {loss:.4f} - m: {m} - c: {c}\")\n",
        "\n",
        "    return m, c, loss_history"
      ],
      "metadata": {
        "id": "AZ2jYpgagij2"
      },
      "execution_count": null,
      "outputs": []
    },
    {
      "cell_type": "markdown",
      "source": [
        "#**Initialize parameters**"
      ],
      "metadata": {
        "id": "vsjfu20dgx15"
      }
    },
    {
      "cell_type": "code",
      "source": [
        "# Initialize parameters\n",
        "m = np.random.randn(X_train.shape[1]) * 0.1  # Random initialization of m\n",
        "c = 0.1  # Random initialization of c"
      ],
      "metadata": {
        "id": "1m-a38JqgvTI"
      },
      "execution_count": null,
      "outputs": []
    },
    {
      "cell_type": "markdown",
      "source": [
        "#**Define Evaluation Metrics**"
      ],
      "metadata": {
        "id": "af6b0ooig76J"
      }
    },
    {
      "cell_type": "code",
      "source": [
        "def r_squared(y_true, y_pred):\n",
        "    ss_total = np.sum((y_true - np.mean(y_true)) ** 2)\n",
        "    ss_residual = np.sum((y_true - y_pred) ** 2)\n",
        "    return 1 - (ss_residual / ss_total)\n",
        "\n",
        "def mean_absolute_error(y_true, y_pred):\n",
        "    return np.mean(np.abs(y_true - y_pred))"
      ],
      "metadata": {
        "id": "vFsD1Otbg5Uw"
      },
      "execution_count": null,
      "outputs": []
    },
    {
      "cell_type": "markdown",
      "source": [
        "#**Define Visualization Functions**"
      ],
      "metadata": {
        "id": "JlnFhNnJhI5X"
      }
    },
    {
      "cell_type": "code",
      "source": [
        "def plot_loss_curve(loss_history):\n",
        "    plt.plot(loss_history)\n",
        "    plt.title(\"Loss Curve (MSE)\")\n",
        "    plt.xlabel(\"Epochs\")\n",
        "    plt.ylabel(\"Loss\")\n",
        "    plt.show()\n",
        "\n",
        "def plot_accuracy_curve(X, y, m, c, loss_history):\n",
        "    # Calculate predictions using the correct formula (dot product)\n",
        "    y_pred = np.dot(X, m) + c\n",
        "\n",
        "    # Calculate R-squared value\n",
        "    r2 = r_squared(y, y_pred)\n",
        "\n",
        "    # Plot the loss history and R-squared value\n",
        "    plt.plot(loss_history, label=\"Loss (MSE)\")\n",
        "    plt.axhline(y=r2, color='r', linestyle='--', label=f\"R²: {r2:.4f}\")\n",
        "    plt.title(\"Accuracy Curve (R²)\")\n",
        "    plt.xlabel(\"Epochs\")\n",
        "    plt.ylabel(\"R² / Loss\")\n",
        "    plt.legend()\n",
        "    plt.show()\n"
      ],
      "metadata": {
        "id": "R3t27O-hhGUY"
      },
      "execution_count": null,
      "outputs": []
    },
    {
      "cell_type": "markdown",
      "source": [
        "#**Train the Model**"
      ],
      "metadata": {
        "id": "zaGgi-xVhPKO"
      }
    },
    {
      "cell_type": "code",
      "source": [
        "learning_rate = 0.01\n",
        "epochs = 1000\n",
        "m, c, loss_history = gradient_descent(X_train, y_train, m, c, learning_rate, epochs)"
      ],
      "metadata": {
        "colab": {
          "base_uri": "https://localhost:8080/"
        },
        "id": "xNkfCJgvhNAa",
        "outputId": "a526134a-37a0-4c62-fa00-f08f98eacc48"
      },
      "execution_count": null,
      "outputs": [
        {
          "output_type": "stream",
          "name": "stdout",
          "text": [
            "Epoch 0/1000 - Loss: 0.5973 - m: [ 0.77773191  0.19323339  0.00594474  0.00086956  0.01364665 -0.0440038\n",
            " -0.26810954 -0.22311868] - c: 2.048320925380287\n",
            "Epoch 10/1000 - Loss: 0.5946 - m: [ 7.81349817e-01  1.94249934e-01  1.98844854e-05  7.29902989e-03\n",
            "  1.49107176e-02 -4.42505211e-02 -2.76840788e-01 -2.32346637e-01] - c: 2.052642765439619\n",
            "Epoch 20/1000 - Loss: 0.5920 - m: [ 0.78462336  0.19498859 -0.0058451   0.01367326  0.0159906  -0.04447423\n",
            " -0.2854176  -0.24139509] - c: 2.0561740234278156\n",
            "Epoch 30/1000 - Loss: 0.5896 - m: [ 0.78760778  0.19548766 -0.01164434  0.01997956  0.01690591 -0.04467491\n",
            " -0.2938466  -0.25027357] - c: 2.0590593183040746\n",
            "Epoch 40/1000 - Loss: 0.5873 - m: [ 0.79034842  0.1957804  -0.01737305  0.02620835  0.01767451 -0.04485314\n",
            " -0.30213364 -0.25899036] - c: 2.0614168142873175\n",
            "Epoch 50/1000 - Loss: 0.5851 - m: [ 0.79288252  0.19589566 -0.02302736  0.03235249  0.01831265 -0.04500984\n",
            " -0.3102839  -0.26755272] - c: 2.0633430601475715\n",
            "Epoch 60/1000 - Loss: 0.5830 - m: [ 0.79524072  0.1958585  -0.02860416  0.0384068   0.01883499 -0.04514621\n",
            " -0.31830205 -0.27596699] - c: 2.0649169432593646\n",
            "Epoch 70/1000 - Loss: 0.5809 - m: [ 0.79744826  0.19569067 -0.03410107  0.04436763  0.0192548  -0.0452636\n",
            " -0.32619225 -0.28423884] - c: 2.066202920351229\n",
            "Epoch 80/1000 - Loss: 0.5790 - m: [ 0.79952598  0.19541104 -0.03951623  0.05023255  0.01958399 -0.04536342\n",
            " -0.33395829 -0.2923733 ] - c: 2.0672536572632723\n",
            "Epoch 90/1000 - Loss: 0.5771 - m: [ 0.80149109  0.19503601 -0.0448483   0.05600006  0.01983326 -0.04544709\n",
            " -0.3416036  -0.30037486] - c: 2.068112185821295\n",
            "Epoch 100/1000 - Loss: 0.5753 - m: [ 0.80335786  0.1945798  -0.05009634  0.0616694   0.02001221 -0.04551603\n",
            " -0.34913134 -0.30824762] - c: 2.0688136661599916\n",
            "Epoch 110/1000 - Loss: 0.5735 - m: [ 0.80513813  0.19405478 -0.05525976  0.06724041  0.02012939 -0.04557161\n",
            " -0.35654438 -0.31599527] - c: 2.0693868266693065\n",
            "Epoch 120/1000 - Loss: 0.5718 - m: [ 0.80684175  0.19347167 -0.06033826  0.07271335  0.02019246 -0.04561512\n",
            " -0.36384543 -0.3236212 ] - c: 2.0698551405354486\n",
            "Epoch 130/1000 - Loss: 0.5701 - m: [ 0.80847696  0.19283978 -0.06533181  0.07808884  0.02020823 -0.04564777\n",
            " -0.37103698 -0.33112853] - c: 2.0702377870605613\n",
            "Epoch 140/1000 - Loss: 0.5685 - m: [ 0.81005063  0.19216719 -0.07024058  0.08336777  0.02018274 -0.04567071\n",
            " -0.37812135 -0.33852015] - c: 2.0705504371308803\n",
            "Epoch 150/1000 - Loss: 0.5670 - m: [ 0.81156856  0.19146093 -0.07506491  0.08855121  0.02012138 -0.04568498\n",
            " -0.38510076 -0.34579874] - c: 2.0708058950014094\n",
            "Epoch 160/1000 - Loss: 0.5655 - m: [ 0.8130356   0.19072707 -0.07980531  0.09364038  0.02002891 -0.04569155\n",
            " -0.39197728 -0.3529668 ] - c: 2.071014622680723\n",
            "Epoch 170/1000 - Loss: 0.5640 - m: [ 0.8144559   0.18997089 -0.0844624   0.09863661  0.01990956 -0.04569129\n",
            " -0.39875289 -0.3600267 ] - c: 2.071185168391535\n",
            "Epoch 180/1000 - Loss: 0.5626 - m: [ 0.81583296  0.18919696 -0.08903691  0.10354129  0.01976706 -0.04568499\n",
            " -0.40542945 -0.36698065] - c: 2.0713245166541707\n",
            "Epoch 190/1000 - Loss: 0.5612 - m: [ 0.81716977  0.18840924 -0.09352965  0.10835589  0.01960472 -0.04567339\n",
            " -0.41200878 -0.37383078] - c: 2.0714383743302567\n",
            "Epoch 200/1000 - Loss: 0.5599 - m: [ 0.81846889  0.18761117 -0.09794152  0.11308189  0.01942543 -0.04565713\n",
            " -0.41849259 -0.38057907] - c: 2.071531404341242\n",
            "Epoch 210/1000 - Loss: 0.5586 - m: [ 0.81973256  0.18680571 -0.10227345  0.11772078  0.01923176 -0.04563679\n",
            " -0.42488255 -0.38722746] - c: 2.0716074166334417\n",
            "Epoch 220/1000 - Loss: 0.5574 - m: [ 0.82096269  0.18599543 -0.10652644  0.12227407  0.01902598 -0.04561291\n",
            " -0.43118025 -0.39377777] - c: 2.0716695242103866\n",
            "Epoch 230/1000 - Loss: 0.5562 - m: [ 0.82216097  0.18518253 -0.11070153  0.12674326  0.01881007 -0.04558594\n",
            " -0.43738726 -0.40023177] - c: 2.0717202706226105\n",
            "Epoch 240/1000 - Loss: 0.5550 - m: [ 0.82332887  0.18436892 -0.11479977  0.13112984  0.01858578 -0.04555631\n",
            " -0.44350507 -0.40659115] - c: 2.0717617341360848\n",
            "Epoch 250/1000 - Loss: 0.5539 - m: [ 0.8244677   0.18355625 -0.11882225  0.13543527  0.01835463 -0.04552439\n",
            " -0.44953513 -0.41285756] - c: 2.0717956128454222\n",
            "Epoch 260/1000 - Loss: 0.5528 - m: [ 0.82557863  0.18274592 -0.12277007  0.13966103  0.01811796 -0.0454905\n",
            " -0.45547887 -0.41903257] - c: 2.0718232942175536\n",
            "Epoch 270/1000 - Loss: 0.5518 - m: [ 0.82666269  0.18193915 -0.12664435  0.14380854  0.01787696 -0.04545495\n",
            " -0.46133768 -0.42511773] - c: 2.07184591191398\n",
            "Epoch 280/1000 - Loss: 0.5507 - m: [ 0.82772084  0.18113695 -0.13044621  0.14787921  0.01763264 -0.045418\n",
            " -0.46711289 -0.43111452] - c: 2.071864392218684\n",
            "Epoch 290/1000 - Loss: 0.5497 - m: [ 0.82875392  0.18034021 -0.13417677  0.15187443  0.01738591 -0.04537986\n",
            " -0.47280583 -0.4370244 ] - c: 2.07187949197312\n",
            "Epoch 300/1000 - Loss: 0.5488 - m: [ 0.82976271  0.17954968 -0.13783716  0.15579556  0.01713754 -0.04534075\n",
            " -0.47841778 -0.44284878] - c: 2.0718918295718605\n",
            "Epoch 310/1000 - Loss: 0.5479 - m: [ 0.83074794  0.17876598 -0.14142851  0.15964394  0.01688821 -0.04530084\n",
            " -0.48395    -0.44858904] - c: 2.071901910288293\n",
            "Epoch 320/1000 - Loss: 0.5469 - m: [ 0.83171027  0.17798964 -0.14495194  0.16342088  0.01663851 -0.04526029\n",
            " -0.48940372 -0.45424652] - c: 2.0719101469675634\n",
            "Epoch 330/1000 - Loss: 0.5461 - m: [ 0.83265032  0.17722111 -0.14840857  0.16712767  0.01638896 -0.04521924\n",
            " -0.49478016 -0.45982253] - c: 2.071916876934214\n",
            "Epoch 340/1000 - Loss: 0.5452 - m: [ 0.83356868  0.17646074 -0.15179949  0.17076556  0.01614    -0.04517782\n",
            " -0.50008049 -0.46531835] - c: 2.071922375806955\n",
            "Epoch 350/1000 - Loss: 0.5444 - m: [ 0.83446588  0.17570883 -0.15512582  0.1743358   0.015892   -0.04513611\n",
            " -0.50530588 -0.47073526] - c: 2.07192686878634\n",
            "Epoch 360/1000 - Loss: 0.5436 - m: [ 0.83534244  0.17496563 -0.15838863  0.1778396   0.0156453  -0.04509423\n",
            " -0.51045746 -0.47607447] - c: 2.071930539877618\n",
            "Epoch 370/1000 - Loss: 0.5428 - m: [ 0.83619886  0.17423132 -0.16158901  0.18127816  0.01540017 -0.04505225\n",
            " -0.51553636 -0.48133718] - c: 2.0719335394264724\n",
            "Epoch 380/1000 - Loss: 0.5421 - m: [ 0.83703559  0.17350604 -0.16472803  0.18465263  0.01515687 -0.04501025\n",
            " -0.52054367 -0.4865246 ] - c: 2.0719359902762737\n",
            "Epoch 390/1000 - Loss: 0.5414 - m: [ 0.83785309  0.17278991 -0.16780673  0.18796416  0.01491558 -0.04496828\n",
            " -0.52548048 -0.49163786] - c: 2.071937992798999\n",
            "Epoch 400/1000 - Loss: 0.5407 - m: [ 0.83865177  0.17208301 -0.17082616  0.19121388  0.01467649 -0.04492639\n",
            " -0.53034784 -0.49667811] - c: 2.0719396290058634\n",
            "Epoch 410/1000 - Loss: 0.5400 - m: [ 0.83943206  0.17138537 -0.17378735  0.19440289  0.01443974 -0.04488464\n",
            " -0.53514679 -0.50164647] - c: 2.071940965905998\n",
            "Epoch 420/1000 - Loss: 0.5393 - m: [ 0.84019434  0.17069703 -0.1766913   0.19753227  0.01420545 -0.04484307\n",
            " -0.53987837 -0.50654403] - c: 2.0719420582507437\n",
            "Epoch 430/1000 - Loss: 0.5387 - m: [ 0.84093899  0.17001797 -0.17953902  0.20060308  0.01397372 -0.04480171\n",
            " -0.54454357 -0.51137187] - c: 2.0719429507759313\n",
            "Epoch 440/1000 - Loss: 0.5381 - m: [ 0.8416664   0.1693482  -0.18233149  0.20361637  0.01374464 -0.04476058\n",
            " -0.54914339 -0.51613104] - c: 2.0719436800339905\n",
            "Epoch 450/1000 - Loss: 0.5375 - m: [ 0.8423769   0.16868766 -0.18506969  0.20657315  0.01351826 -0.04471972\n",
            " -0.5536788  -0.52082259] - c: 2.07194427589092\n",
            "Epoch 460/1000 - Loss: 0.5369 - m: [ 0.84307086  0.16803633 -0.18775457  0.20947443  0.01329464 -0.04467915\n",
            " -0.55815077 -0.52544755] - c: 2.0719447627494145\n",
            "Epoch 470/1000 - Loss: 0.5363 - m: [ 0.84374862  0.16739414 -0.19038706  0.21232119  0.01307381 -0.04463889\n",
            " -0.56256023 -0.5300069 ] - c: 2.07194516054825\n",
            "Epoch 480/1000 - Loss: 0.5358 - m: [ 0.84441049  0.16676102 -0.1929681   0.21511441  0.01285581 -0.04459894\n",
            " -0.56690811 -0.53450164] - c: 2.071945485578861\n",
            "Epoch 490/1000 - Loss: 0.5353 - m: [ 0.8450568   0.1661369  -0.19549861  0.21785503  0.01264065 -0.04455933\n",
            " -0.57119533 -0.53893275] - c: 2.0719457511525343\n",
            "Epoch 500/1000 - Loss: 0.5347 - m: [ 0.84568786  0.1655217  -0.19797947  0.22054399  0.01242835 -0.04452007\n",
            " -0.57542278 -0.54330117] - c: 2.07194596814556\n",
            "Epoch 510/1000 - Loss: 0.5342 - m: [ 0.84630399  0.16491533 -0.20041158  0.2231822   0.01221891 -0.04448116\n",
            " -0.57959134 -0.54760785] - c: 2.071946145444661\n",
            "Epoch 520/1000 - Loss: 0.5338 - m: [ 0.84690547  0.1643177  -0.2027958   0.22577056  0.01201232 -0.04444261\n",
            " -0.5837019  -0.55185372] - c: 2.0719462903109345\n",
            "Epoch 530/1000 - Loss: 0.5333 - m: [ 0.8474926   0.16372871 -0.20513298  0.22830996  0.01180859 -0.04440443\n",
            " -0.5877553  -0.55603967] - c: 2.071946408677227\n",
            "Epoch 540/1000 - Loss: 0.5328 - m: [ 0.84806566  0.16314826 -0.20742398  0.23080127  0.01160769 -0.04436662\n",
            " -0.59175239 -0.56016661] - c: 2.071946505391106\n",
            "Epoch 550/1000 - Loss: 0.5324 - m: [ 0.84862494  0.16257625 -0.20966961  0.23324533  0.01140961 -0.04432918\n",
            " -0.595694   -0.56423542] - c: 2.071946584413386\n",
            "Epoch 560/1000 - Loss: 0.5320 - m: [ 0.84917071  0.16201257 -0.2118707   0.23564299  0.01121433 -0.04429212\n",
            " -0.59958094 -0.56824697] - c: 2.071946648980342\n",
            "Epoch 570/1000 - Loss: 0.5316 - m: [ 0.84970323  0.16145712 -0.21402804  0.23799508  0.01102184 -0.04425544\n",
            " -0.60341402 -0.5722021 ] - c: 2.071946701736247\n",
            "Epoch 580/1000 - Loss: 0.5312 - m: [ 0.85022277  0.16090979 -0.21614241  0.24030239  0.01083211 -0.04421914\n",
            " -0.60719403 -0.57610165] - c: 2.071946744841661\n",
            "Epoch 590/1000 - Loss: 0.5308 - m: [ 0.85072958  0.16037047 -0.2182146   0.24256573  0.0106451  -0.04418322\n",
            " -0.61092175 -0.57994646] - c: 2.0719467800619222\n",
            "Epoch 600/1000 - Loss: 0.5304 - m: [ 0.85122391  0.15983906 -0.22024537  0.24478587  0.0104608  -0.04414768\n",
            " -0.61459794 -0.58373734] - c: 2.07194680883944\n",
            "Epoch 610/1000 - Loss: 0.5300 - m: [ 0.85170602  0.15931545 -0.22223545  0.24696359  0.01027918 -0.04411251\n",
            " -0.61822337 -0.58747508] - c: 2.0719468323527677\n",
            "Epoch 620/1000 - Loss: 0.5297 - m: [ 0.85217614  0.15879952 -0.2241856   0.24909964  0.0101002  -0.04407772\n",
            " -0.62179878 -0.59116047] - c: 2.0719468515648676\n",
            "Epoch 630/1000 - Loss: 0.5293 - m: [ 0.85263452  0.15829117 -0.22609652  0.25119475  0.00992383 -0.0440433\n",
            " -0.6253249  -0.5947943 ] - c: 2.071946867262552\n",
            "Epoch 640/1000 - Loss: 0.5290 - m: [ 0.85308137  0.15779029 -0.22796894  0.25324966  0.00975004 -0.04400925\n",
            " -0.62880244 -0.59837732] - c: 2.071946880088703\n",
            "Epoch 650/1000 - Loss: 0.5287 - m: [ 0.85351694  0.15729677 -0.22980354  0.25526509  0.00957881 -0.04397558\n",
            " -0.63223213 -0.60191028] - c: 2.0719468905686016\n",
            "Epoch 660/1000 - Loss: 0.5284 - m: [ 0.85394145  0.15681052 -0.23160102  0.25724173  0.00941009 -0.04394227\n",
            " -0.63561466 -0.60539393] - c: 2.071946899131442\n",
            "Epoch 670/1000 - Loss: 0.5281 - m: [ 0.85435511  0.15633141 -0.23336205  0.25918029  0.00924385 -0.04390932\n",
            " -0.63895072 -0.60882899] - c: 2.0719469061279043\n",
            "Epoch 680/1000 - Loss: 0.5278 - m: [ 0.85475814  0.15585935 -0.23508729  0.26108142  0.00908007 -0.04387674\n",
            " -0.64224098 -0.61221619] - c: 2.0719469118445244\n",
            "Epoch 690/1000 - Loss: 0.5275 - m: [ 0.85515076  0.15539424 -0.2367774   0.26294582  0.0089187  -0.04384451\n",
            " -0.64548612 -0.61555622] - c: 2.0719469165154196\n",
            "Epoch 700/1000 - Loss: 0.5272 - m: [ 0.85553316  0.15493596 -0.23843302  0.26477412  0.00875971 -0.04381264\n",
            " -0.64868679 -0.61884978] - c: 2.07194692033188\n",
            "Epoch 710/1000 - Loss: 0.5269 - m: [ 0.85590557  0.15448442 -0.24005477  0.26656698  0.00860307 -0.04378112\n",
            " -0.65184364 -0.62209756] - c: 2.071946923450206\n",
            "Epoch 720/1000 - Loss: 0.5267 - m: [ 0.85626816  0.15403953 -0.24164327  0.26832503  0.00844875 -0.04374995\n",
            " -0.6549573  -0.62530023] - c: 2.071946925998105\n",
            "Epoch 730/1000 - Loss: 0.5264 - m: [ 0.85662115  0.15360117 -0.24319914  0.27004889  0.00829671 -0.04371912\n",
            " -0.65802841 -0.62845846] - c: 2.071946928079924\n",
            "Epoch 740/1000 - Loss: 0.5262 - m: [ 0.85696472  0.15316925 -0.24472296  0.27173917  0.00814693 -0.04368863\n",
            " -0.66105759 -0.63157289] - c: 2.0719469297809217\n",
            "Epoch 750/1000 - Loss: 0.5260 - m: [ 0.85729907  0.15274368 -0.24621533  0.27339648  0.00799936 -0.04365848\n",
            " -0.66404543 -0.63464418] - c: 2.07194693117076\n",
            "Epoch 760/1000 - Loss: 0.5257 - m: [ 0.85762437  0.15232435 -0.24767682  0.2750214   0.00785397 -0.04362866\n",
            " -0.66699254 -0.63767295] - c: 2.0719469323063593\n",
            "Epoch 770/1000 - Loss: 0.5255 - m: [ 0.85794081  0.15191119 -0.24910801  0.27661452  0.00771074 -0.04359918\n",
            " -0.66989952 -0.64065983] - c: 2.071946933234226\n",
            "Epoch 780/1000 - Loss: 0.5253 - m: [ 0.85824858  0.15150408 -0.25050943  0.2781764   0.00756962 -0.04357002\n",
            " -0.67276694 -0.64360543] - c: 2.071946933992361\n",
            "Epoch 790/1000 - Loss: 0.5251 - m: [ 0.85854783  0.15110294 -0.25188166  0.27970762  0.0074306  -0.04354118\n",
            " -0.67559538 -0.64651036] - c: 2.071946934611812\n",
            "Epoch 800/1000 - Loss: 0.5249 - m: [ 0.85883876  0.15070769 -0.25322521  0.28120871  0.00729364 -0.04351266\n",
            " -0.67838539 -0.64937522] - c: 2.0719469351179485\n",
            "Epoch 810/1000 - Loss: 0.5247 - m: [ 0.85912152  0.15031822 -0.25454063  0.28268022  0.0071587  -0.04348446\n",
            " -0.68113754 -0.65220058] - c: 2.0719469355314994\n",
            "Epoch 820/1000 - Loss: 0.5245 - m: [ 0.85939629  0.14993446 -0.25582842  0.28412268  0.00702576 -0.04345657\n",
            " -0.68385237 -0.65498703] - c: 2.0719469358694003\n",
            "Epoch 830/1000 - Loss: 0.5243 - m: [ 0.85966322  0.14955631 -0.25708911  0.28553662  0.00689478 -0.04342899\n",
            " -0.68653042 -0.65773514] - c: 2.071946936145489\n",
            "Epoch 840/1000 - Loss: 0.5241 - m: [ 0.85992248  0.1491837  -0.25832318  0.28692255  0.00676574 -0.04340172\n",
            " -0.68917223 -0.66044546] - c: 2.071946936371074\n",
            "Epoch 850/1000 - Loss: 0.5239 - m: [ 0.86017422  0.14881653 -0.25953114  0.28828098  0.00663861 -0.04337474\n",
            " -0.69177831 -0.66311855] - c: 2.071946936555393\n",
            "Epoch 860/1000 - Loss: 0.5238 - m: [ 0.8604186   0.14845473 -0.26071347  0.2896124   0.00651336 -0.04334807\n",
            " -0.69434917 -0.66575495] - c: 2.071946936705994\n",
            "Epoch 870/1000 - Loss: 0.5236 - m: [ 0.86065577  0.14809821 -0.26187064  0.29091729  0.00638996 -0.04332169\n",
            " -0.69688533 -0.6683552 ] - c: 2.0719469368290464\n",
            "Epoch 880/1000 - Loss: 0.5234 - m: [ 0.86088588  0.1477469  -0.26300312  0.29219615  0.00626838 -0.0432956\n",
            " -0.69938729 -0.67091981] - c: 2.0719469369295895\n",
            "Epoch 890/1000 - Loss: 0.5233 - m: [ 0.86110906  0.14740071 -0.26411136  0.29344943  0.0061486  -0.0432698\n",
            " -0.70185553 -0.67344932] - c: 2.0719469370117403\n",
            "Epoch 900/1000 - Loss: 0.5231 - m: [ 0.86132548  0.14705957 -0.26519583  0.29467761  0.00603058 -0.04324428\n",
            " -0.70429054 -0.67594423] - c: 2.0719469370788635\n",
            "Epoch 910/1000 - Loss: 0.5230 - m: [ 0.86153526  0.14672339 -0.26625696  0.29588114  0.0059143  -0.04321905\n",
            " -0.7066928  -0.67840504] - c: 2.071946937133707\n",
            "Epoch 920/1000 - Loss: 0.5229 - m: [ 0.86173855  0.14639211 -0.26729519  0.29706046  0.00579974 -0.04319409\n",
            " -0.70906278 -0.68083225] - c: 2.071946937178519\n",
            "Epoch 930/1000 - Loss: 0.5227 - m: [ 0.86193548  0.14606565 -0.26831095  0.29821601  0.00568686 -0.04316941\n",
            " -0.71140094 -0.68322635] - c: 2.071946937215133\n",
            "Epoch 940/1000 - Loss: 0.5226 - m: [ 0.86212618  0.14574394 -0.26930465  0.29934824  0.00557565 -0.043145\n",
            " -0.71370773 -0.68558781] - c: 2.0719469372450496\n",
            "Epoch 950/1000 - Loss: 0.5225 - m: [ 0.86231079  0.1454269  -0.27027671  0.30045755  0.00546607 -0.04312086\n",
            " -0.71598361 -0.68791711] - c: 2.0719469372694936\n",
            "Epoch 960/1000 - Loss: 0.5223 - m: [ 0.86248943  0.14511447 -0.27122753  0.30154437  0.0053581  -0.04309698\n",
            " -0.71822901 -0.69021472] - c: 2.071946937289466\n",
            "Epoch 970/1000 - Loss: 0.5222 - m: [ 0.86266222  0.14480657 -0.27215752  0.3026091   0.00525172 -0.04307337\n",
            " -0.72044438 -0.6924811 ] - c: 2.071946937305785\n",
            "Epoch 980/1000 - Loss: 0.5221 - m: [ 0.8628293   0.14450313 -0.27306706  0.30365216  0.00514691 -0.04305002\n",
            " -0.72263013 -0.69471669] - c: 2.0719469373191193\n",
            "Epoch 990/1000 - Loss: 0.5220 - m: [ 0.86299078  0.1442041  -0.27395654  0.30467393  0.00504363 -0.04302692\n",
            " -0.7247867  -0.69692194] - c: 2.071946937330013\n"
          ]
        }
      ]
    },
    {
      "cell_type": "code",
      "source": [
        "plot_loss_curve(loss_history)"
      ],
      "metadata": {
        "colab": {
          "base_uri": "https://localhost:8080/",
          "height": 472
        },
        "id": "3QSeoUvIhb-_",
        "outputId": "2eb5d5f3-2525-4a47-a17f-a663176388db"
      },
      "execution_count": null,
      "outputs": [
        {
          "output_type": "display_data",
          "data": {
            "text/plain": [
              "<Figure size 640x480 with 1 Axes>"
            ],
            "image/png": "[encoded data removed]"
          },
          "metadata": {}
        }
      ]
    },
    {
      "cell_type": "code",
      "source": [
        "# Plot the accuracy curve (Loss and R²)\n",
        "plot_accuracy_curve(X_train, y_train, m, c, loss_history)"
      ],
      "metadata": {
        "colab": {
          "base_uri": "https://localhost:8080/",
          "height": 472
        },
        "id": "_lzPgVFSiUGY",
        "outputId": "21cb4d22-f4b2-40dc-a1fc-fe4812dadcd1"
      },
      "execution_count": null,
      "outputs": [
        {
          "output_type": "display_data",
          "data": {
            "text/plain": [
              "<Figure size 640x480 with 1 Axes>"
            ],
            "image/png": "[encoded data removed]"
          },
          "metadata": {}
        }
      ]
    },
    {
      "cell_type": "markdown",
      "source": [
        "#**Define Model Evaluation Funtion**"
      ],
      "metadata": {
        "id": "7vhMNLyJlA83"
      }
    },
    {
      "cell_type": "code",
      "source": [
        "def evaluate_model(X_test, y_test, m, c):\n",
        "    # Make predictions on the test set\n",
        "    y_pred = np.dot(X_test, m) + c\n",
        "\n",
        "    # Calculate MSE and R-squared\n",
        "    mse = mean_squared_error(y_test, y_pred)\n",
        "    mae = mean_absolute_error(y_test, y_pred)\n",
        "    r2 = r_squared(y_test, y_pred)\n",
        "\n",
        "    print(f\"Mean Squared Error (MSE) on Test Set: {mse}\")\n",
        "    print(f\"Mean Absolute Error (MAE) on Test Set: {mae}\")\n",
        "    print(f\"R-squared (R²) on Test Set: {r2}\")"
      ],
      "metadata": {
        "id": "3PsaTlKaikt1"
      },
      "execution_count": null,
      "outputs": []
    },
    {
      "cell_type": "markdown",
      "source": [
        "#**Evaluate the Model**"
      ],
      "metadata": {
        "id": "4ZhfoHQblTaC"
      }
    },
    {
      "cell_type": "code",
      "source": [
        "evaluate_model(X_test, y_test, m, c)"
      ],
      "metadata": {
        "colab": {
          "base_uri": "https://localhost:8080/"
        },
        "id": "HDyIzCEJlRZJ",
        "outputId": "d8ac99a8-f0e3-4f84-a009-eab627d799e4"
      },
      "execution_count": null,
      "outputs": [
        {
          "output_type": "stream",
          "name": "stdout",
          "text": [
            "Mean Squared Error (MSE) on Test Set: 0.55445417404903\n",
            "Mean Absolute Error (MAE) on Test Set: 0.5337040423179147\n",
            "R-squared (R²) on Test Set: 0.5768846342968954\n"
          ]
        }
      ]
    },
    {
      "cell_type": "markdown",
      "source": [
        "# **Conclusion:**\n",
        "* The model shows a moderate performance with MSE of 0.5544 and R² of 0.5769, indicating that it has room to improve in terms of accuracy.\n",
        "* MAE provides additional insight into prediction errors, showing that the model is generally consistent in terms of error magnitude.\n",
        "* To improve performance, consider enhancing the feature set, trying more complex models, tuning hyperparameters, or adding regularization."
      ],
      "metadata": {
        "id": "-LdTBSNXmC2O"
      }
    }
  ]
}